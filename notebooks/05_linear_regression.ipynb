{
 "cells": [
  {
   "cell_type": "code",
   "execution_count": 1,
   "metadata": {
    "executionInfo": {
     "elapsed": 1731,
     "status": "ok",
     "timestamp": 1733221635814,
     "user": {
      "displayName": "Ines Gouten",
      "userId": "14459617606990911186"
     },
     "user_tz": -60
    },
    "id": "XAc7G9cxEMKv"
   },
   "outputs": [],
   "source": [
    "import pandas as pd"
   ]
  },
  {
   "cell_type": "code",
   "execution_count": 2,
   "metadata": {
    "executionInfo": {
     "elapsed": 3304,
     "status": "ok",
     "timestamp": 1733221660168,
     "user": {
      "displayName": "Ines Gouten",
      "userId": "14459617606990911186"
     },
     "user_tz": -60
    },
    "id": "ItDUu8gcPj1w"
   },
   "outputs": [],
   "source": [
    "test = pd.read_csv(\"../data/processed/test_detrended.csv\")\n",
    "train = pd.read_csv(\"../data/processed/train_detrended.csv\")\n",
    "seasonality_df = pd.read_csv(\"../data/processed/seasonality_components.csv\")"
   ]
  },
  {
   "cell_type": "markdown",
   "metadata": {},
   "source": [
    "# Standardization"
   ]
  },
  {
   "cell_type": "code",
   "execution_count": 7,
   "metadata": {
    "executionInfo": {
     "elapsed": 24,
     "status": "ok",
     "timestamp": 1733221660168,
     "user": {
      "displayName": "Ines Gouten",
      "userId": "14459617606990911186"
     },
     "user_tz": -60
    },
    "id": "6q7KXnY5AMnU"
   },
   "outputs": [],
   "source": [
    "#standardize target values and features:\n",
    "#features because: Standardizing the features is crucial for models like Lasso and Ridge regression because these models use regularization terms\n",
    "#that depend on the scale of the coefficients: Features with larger scales (e.g., salary in thousands vs. age in years) will naturally have larger coefficients and\n",
    "#the regularization penalty will disproportionately affect coefficients of features with larger scales-> so is a must to standardize\n",
    "#target value not a must but helps prevent issues with numerical precision, especially for very large datasets or extreme target value ranges."
   ]
  },
  {
   "cell_type": "code",
   "execution_count": 3,
   "metadata": {
    "colab": {
     "base_uri": "https://localhost:8080/",
     "height": 342
    },
    "executionInfo": {
     "elapsed": 24,
     "status": "ok",
     "timestamp": 1733221660168,
     "user": {
      "displayName": "Ines Gouten",
      "userId": "14459617606990911186"
     },
     "user_tz": -60
    },
    "id": "dqOCL3PkB4JS",
    "outputId": "dbfeeda3-b5d1-40fc-fc13-5653d9475261"
   },
   "outputs": [
    {
     "data": {
      "text/html": [
       "<div>\n",
       "<style scoped>\n",
       "    .dataframe tbody tr th:only-of-type {\n",
       "        vertical-align: middle;\n",
       "    }\n",
       "\n",
       "    .dataframe tbody tr th {\n",
       "        vertical-align: top;\n",
       "    }\n",
       "\n",
       "    .dataframe thead th {\n",
       "        text-align: right;\n",
       "    }\n",
       "</style>\n",
       "<table border=\"1\" class=\"dataframe\">\n",
       "  <thead>\n",
       "    <tr style=\"text-align: right;\">\n",
       "      <th></th>\n",
       "      <th>DATE</th>\n",
       "      <th>WATER_LEVEL</th>\n",
       "      <th>HUMIDITY</th>\n",
       "      <th>MEAN_TEMP</th>\n",
       "      <th>PRECIPITATION</th>\n",
       "      <th>PRESSURE</th>\n",
       "      <th>SNOW_DEPTH</th>\n",
       "      <th>SUNSHINE</th>\n",
       "      <th>WIND_SPEED</th>\n",
       "      <th>GLOBAL_RADIATION</th>\n",
       "      <th>...</th>\n",
       "      <th>MOON_ILLUMINATION</th>\n",
       "      <th>CLIMATE_CHANGE</th>\n",
       "      <th>WATER_LEVEL_LAG_1</th>\n",
       "      <th>WATER_LEVEL_LAG_2</th>\n",
       "      <th>WATER_LEVEL_LAG_3</th>\n",
       "      <th>WATER_LEVEL_LAG_4</th>\n",
       "      <th>WATER_LEVEL_LAG_5</th>\n",
       "      <th>WATER_LEVEL_LAG_6</th>\n",
       "      <th>WATER_LEVEL_LAG_7</th>\n",
       "      <th>LOG_WATER_LEVEL</th>\n",
       "    </tr>\n",
       "  </thead>\n",
       "  <tbody>\n",
       "    <tr>\n",
       "      <th>0</th>\n",
       "      <td>2018-01-01</td>\n",
       "      <td>5.814955</td>\n",
       "      <td>54.966096</td>\n",
       "      <td>158.185998</td>\n",
       "      <td>25.503455</td>\n",
       "      <td>10126.490282</td>\n",
       "      <td>0.343520</td>\n",
       "      <td>101.963267</td>\n",
       "      <td>51.218443</td>\n",
       "      <td>160.392824</td>\n",
       "      <td>...</td>\n",
       "      <td>93.24608</td>\n",
       "      <td>0.261758</td>\n",
       "      <td>5.813526</td>\n",
       "      <td>5.812020</td>\n",
       "      <td>5.815046</td>\n",
       "      <td>5.817408</td>\n",
       "      <td>5.820889</td>\n",
       "      <td>5.827840</td>\n",
       "      <td>5.837170</td>\n",
       "      <td>5.823046</td>\n",
       "    </tr>\n",
       "    <tr>\n",
       "      <th>1</th>\n",
       "      <td>2018-01-02</td>\n",
       "      <td>5.834879</td>\n",
       "      <td>61.616171</td>\n",
       "      <td>126.354992</td>\n",
       "      <td>27.376329</td>\n",
       "      <td>10084.646488</td>\n",
       "      <td>0.358823</td>\n",
       "      <td>84.066813</td>\n",
       "      <td>50.943048</td>\n",
       "      <td>157.222570</td>\n",
       "      <td>...</td>\n",
       "      <td>98.02259</td>\n",
       "      <td>0.261758</td>\n",
       "      <td>5.836918</td>\n",
       "      <td>5.834440</td>\n",
       "      <td>5.835472</td>\n",
       "      <td>5.839615</td>\n",
       "      <td>5.843447</td>\n",
       "      <td>5.848409</td>\n",
       "      <td>5.856328</td>\n",
       "      <td>5.823046</td>\n",
       "    </tr>\n",
       "    <tr>\n",
       "      <th>2</th>\n",
       "      <td>2018-01-03</td>\n",
       "      <td>5.838346</td>\n",
       "      <td>62.614585</td>\n",
       "      <td>125.849908</td>\n",
       "      <td>42.411914</td>\n",
       "      <td>10081.639138</td>\n",
       "      <td>-0.564266</td>\n",
       "      <td>78.011627</td>\n",
       "      <td>50.787032</td>\n",
       "      <td>166.943577</td>\n",
       "      <td>...</td>\n",
       "      <td>99.91610</td>\n",
       "      <td>0.261758</td>\n",
       "      <td>5.837851</td>\n",
       "      <td>5.836957</td>\n",
       "      <td>5.834469</td>\n",
       "      <td>5.835498</td>\n",
       "      <td>5.839636</td>\n",
       "      <td>5.843466</td>\n",
       "      <td>5.848431</td>\n",
       "      <td>5.823046</td>\n",
       "    </tr>\n",
       "    <tr>\n",
       "      <th>3</th>\n",
       "      <td>2018-01-04</td>\n",
       "      <td>5.853000</td>\n",
       "      <td>69.275557</td>\n",
       "      <td>142.172221</td>\n",
       "      <td>92.154747</td>\n",
       "      <td>9992.490891</td>\n",
       "      <td>-1.038637</td>\n",
       "      <td>43.056889</td>\n",
       "      <td>56.794486</td>\n",
       "      <td>128.933991</td>\n",
       "      <td>...</td>\n",
       "      <td>98.74032</td>\n",
       "      <td>0.261758</td>\n",
       "      <td>5.841307</td>\n",
       "      <td>5.837891</td>\n",
       "      <td>5.836987</td>\n",
       "      <td>5.834496</td>\n",
       "      <td>5.835521</td>\n",
       "      <td>5.839657</td>\n",
       "      <td>5.843489</td>\n",
       "      <td>5.834811</td>\n",
       "    </tr>\n",
       "    <tr>\n",
       "      <th>4</th>\n",
       "      <td>2018-01-05</td>\n",
       "      <td>5.885116</td>\n",
       "      <td>77.101825</td>\n",
       "      <td>138.843850</td>\n",
       "      <td>136.285037</td>\n",
       "      <td>9982.019579</td>\n",
       "      <td>-0.730957</td>\n",
       "      <td>57.625725</td>\n",
       "      <td>57.127055</td>\n",
       "      <td>137.166870</td>\n",
       "      <td>...</td>\n",
       "      <td>94.64586</td>\n",
       "      <td>0.261758</td>\n",
       "      <td>5.855919</td>\n",
       "      <td>5.841348</td>\n",
       "      <td>5.837921</td>\n",
       "      <td>5.837015</td>\n",
       "      <td>5.834520</td>\n",
       "      <td>5.835542</td>\n",
       "      <td>5.839681</td>\n",
       "      <td>5.872118</td>\n",
       "    </tr>\n",
       "  </tbody>\n",
       "</table>\n",
       "<p>5 rows × 21 columns</p>\n",
       "</div>"
      ],
      "text/plain": [
       "         DATE  WATER_LEVEL   HUMIDITY   MEAN_TEMP  PRECIPITATION  \\\n",
       "0  2018-01-01     5.814955  54.966096  158.185998      25.503455   \n",
       "1  2018-01-02     5.834879  61.616171  126.354992      27.376329   \n",
       "2  2018-01-03     5.838346  62.614585  125.849908      42.411914   \n",
       "3  2018-01-04     5.853000  69.275557  142.172221      92.154747   \n",
       "4  2018-01-05     5.885116  77.101825  138.843850     136.285037   \n",
       "\n",
       "       PRESSURE  SNOW_DEPTH    SUNSHINE  WIND_SPEED  GLOBAL_RADIATION  ...  \\\n",
       "0  10126.490282    0.343520  101.963267   51.218443        160.392824  ...   \n",
       "1  10084.646488    0.358823   84.066813   50.943048        157.222570  ...   \n",
       "2  10081.639138   -0.564266   78.011627   50.787032        166.943577  ...   \n",
       "3   9992.490891   -1.038637   43.056889   56.794486        128.933991  ...   \n",
       "4   9982.019579   -0.730957   57.625725   57.127055        137.166870  ...   \n",
       "\n",
       "   MOON_ILLUMINATION  CLIMATE_CHANGE  WATER_LEVEL_LAG_1  WATER_LEVEL_LAG_2  \\\n",
       "0           93.24608        0.261758           5.813526           5.812020   \n",
       "1           98.02259        0.261758           5.836918           5.834440   \n",
       "2           99.91610        0.261758           5.837851           5.836957   \n",
       "3           98.74032        0.261758           5.841307           5.837891   \n",
       "4           94.64586        0.261758           5.855919           5.841348   \n",
       "\n",
       "   WATER_LEVEL_LAG_3  WATER_LEVEL_LAG_4  WATER_LEVEL_LAG_5  WATER_LEVEL_LAG_6  \\\n",
       "0           5.815046           5.817408           5.820889           5.827840   \n",
       "1           5.835472           5.839615           5.843447           5.848409   \n",
       "2           5.834469           5.835498           5.839636           5.843466   \n",
       "3           5.836987           5.834496           5.835521           5.839657   \n",
       "4           5.837921           5.837015           5.834520           5.835542   \n",
       "\n",
       "   WATER_LEVEL_LAG_7  LOG_WATER_LEVEL  \n",
       "0           5.837170         5.823046  \n",
       "1           5.856328         5.823046  \n",
       "2           5.848431         5.823046  \n",
       "3           5.843489         5.834811  \n",
       "4           5.839681         5.872118  \n",
       "\n",
       "[5 rows x 21 columns]"
      ]
     },
     "execution_count": 3,
     "metadata": {},
     "output_type": "execute_result"
    }
   ],
   "source": [
    "test.head()\n"
   ]
  },
  {
   "cell_type": "code",
   "execution_count": 4,
   "metadata": {
    "colab": {
     "base_uri": "https://localhost:8080/",
     "height": 206
    },
    "executionInfo": {
     "elapsed": 334,
     "status": "ok",
     "timestamp": 1733221689772,
     "user": {
      "displayName": "Ines Gouten",
      "userId": "14459617606990911186"
     },
     "user_tz": -60
    },
    "id": "_oa9pFlD0LBC",
    "outputId": "a614b704-f79d-443c-f150-e3375191b01d"
   },
   "outputs": [
    {
     "data": {
      "text/html": [
       "<div>\n",
       "<style scoped>\n",
       "    .dataframe tbody tr th:only-of-type {\n",
       "        vertical-align: middle;\n",
       "    }\n",
       "\n",
       "    .dataframe tbody tr th {\n",
       "        vertical-align: top;\n",
       "    }\n",
       "\n",
       "    .dataframe thead th {\n",
       "        text-align: right;\n",
       "    }\n",
       "</style>\n",
       "<table border=\"1\" class=\"dataframe\">\n",
       "  <thead>\n",
       "    <tr style=\"text-align: right;\">\n",
       "      <th></th>\n",
       "      <th>date</th>\n",
       "      <th>dataset</th>\n",
       "      <th>column</th>\n",
       "      <th>seasonal_value</th>\n",
       "    </tr>\n",
       "  </thead>\n",
       "  <tbody>\n",
       "    <tr>\n",
       "      <th>16436</th>\n",
       "      <td>2018-01-01</td>\n",
       "      <td>test</td>\n",
       "      <td>WATER_LEVEL</td>\n",
       "      <td>0.008091</td>\n",
       "    </tr>\n",
       "    <tr>\n",
       "      <th>16437</th>\n",
       "      <td>2018-01-02</td>\n",
       "      <td>test</td>\n",
       "      <td>WATER_LEVEL</td>\n",
       "      <td>-0.011834</td>\n",
       "    </tr>\n",
       "    <tr>\n",
       "      <th>16438</th>\n",
       "      <td>2018-01-03</td>\n",
       "      <td>test</td>\n",
       "      <td>WATER_LEVEL</td>\n",
       "      <td>-0.015300</td>\n",
       "    </tr>\n",
       "    <tr>\n",
       "      <th>16439</th>\n",
       "      <td>2018-01-04</td>\n",
       "      <td>test</td>\n",
       "      <td>WATER_LEVEL</td>\n",
       "      <td>-0.018189</td>\n",
       "    </tr>\n",
       "    <tr>\n",
       "      <th>16440</th>\n",
       "      <td>2018-01-05</td>\n",
       "      <td>test</td>\n",
       "      <td>WATER_LEVEL</td>\n",
       "      <td>-0.012998</td>\n",
       "    </tr>\n",
       "  </tbody>\n",
       "</table>\n",
       "</div>"
      ],
      "text/plain": [
       "             date dataset       column  seasonal_value\n",
       "16436  2018-01-01    test  WATER_LEVEL        0.008091\n",
       "16437  2018-01-02    test  WATER_LEVEL       -0.011834\n",
       "16438  2018-01-03    test  WATER_LEVEL       -0.015300\n",
       "16439  2018-01-04    test  WATER_LEVEL       -0.018189\n",
       "16440  2018-01-05    test  WATER_LEVEL       -0.012998"
      ]
     },
     "execution_count": 4,
     "metadata": {},
     "output_type": "execute_result"
    }
   ],
   "source": [
    "#split into test and train seasonality:\n",
    "train_seasonality = seasonality_df[seasonality_df['dataset'] == 'train']\n",
    "test_seasonality = seasonality_df[seasonality_df['dataset'] == 'test']\n",
    "\n",
    "train_seasonality.head()\n",
    "test_seasonality.head()"
   ]
  },
  {
   "cell_type": "code",
   "execution_count": 5,
   "metadata": {
    "executionInfo": {
     "elapsed": 2388,
     "status": "ok",
     "timestamp": 1733221694761,
     "user": {
      "displayName": "Ines Gouten",
      "userId": "14459617606990911186"
     },
     "user_tz": -60
    },
    "id": "NLu3vsmE_Qtu"
   },
   "outputs": [],
   "source": [
    "import numpy as np\n",
    "from sklearn.model_selection import TimeSeriesSplit, GridSearchCV\n",
    "from sklearn.linear_model import Ridge, Lasso\n",
    "from sklearn.metrics import mean_squared_error"
   ]
  },
  {
   "cell_type": "code",
   "execution_count": 6,
   "metadata": {
    "executionInfo": {
     "elapsed": 3,
     "status": "ok",
     "timestamp": 1733221694761,
     "user": {
      "displayName": "Ines Gouten",
      "userId": "14459617606990911186"
     },
     "user_tz": -60
    },
    "id": "wG6mMfKgCjEl"
   },
   "outputs": [],
   "source": [
    "tscv = TimeSeriesSplit(n_splits=5)"
   ]
  },
  {
   "cell_type": "code",
   "execution_count": 7,
   "metadata": {
    "executionInfo": {
     "elapsed": 4,
     "status": "ok",
     "timestamp": 1733221694762,
     "user": {
      "displayName": "Ines Gouten",
      "userId": "14459617606990911186"
     },
     "user_tz": -60
    },
    "id": "xIj5oHRyCpA0"
   },
   "outputs": [],
   "source": [
    "X_train = train.drop(columns=['WATER_LEVEL', 'DATE'])\n",
    "y_train = train['WATER_LEVEL']\n",
    "\n",
    "X_test = test.drop(columns=['WATER_LEVEL', 'DATE'])\n",
    "y_test = test['WATER_LEVEL']\n",
    "\n"
   ]
  },
  {
   "cell_type": "code",
   "execution_count": 8,
   "metadata": {
    "colab": {
     "base_uri": "https://localhost:8080/",
     "height": 444
    },
    "executionInfo": {
     "elapsed": 3,
     "status": "ok",
     "timestamp": 1733221694762,
     "user": {
      "displayName": "Ines Gouten",
      "userId": "14459617606990911186"
     },
     "user_tz": -60
    },
    "id": "ogJEoOdby1cF",
    "outputId": "8774cd79-397c-4184-cc9b-4201c46e5bf9"
   },
   "outputs": [
    {
     "data": {
      "text/html": [
       "<div>\n",
       "<style scoped>\n",
       "    .dataframe tbody tr th:only-of-type {\n",
       "        vertical-align: middle;\n",
       "    }\n",
       "\n",
       "    .dataframe tbody tr th {\n",
       "        vertical-align: top;\n",
       "    }\n",
       "\n",
       "    .dataframe thead th {\n",
       "        text-align: right;\n",
       "    }\n",
       "</style>\n",
       "<table border=\"1\" class=\"dataframe\">\n",
       "  <thead>\n",
       "    <tr style=\"text-align: right;\">\n",
       "      <th></th>\n",
       "      <th>HUMIDITY</th>\n",
       "      <th>MEAN_TEMP</th>\n",
       "      <th>PRECIPITATION</th>\n",
       "      <th>PRESSURE</th>\n",
       "      <th>SNOW_DEPTH</th>\n",
       "      <th>SUNSHINE</th>\n",
       "      <th>WIND_SPEED</th>\n",
       "      <th>GLOBAL_RADIATION</th>\n",
       "      <th>GROUNDWATER_LEVEL</th>\n",
       "      <th>MOON_ILLUMINATION</th>\n",
       "      <th>CLIMATE_CHANGE</th>\n",
       "      <th>WATER_LEVEL_LAG_1</th>\n",
       "      <th>WATER_LEVEL_LAG_2</th>\n",
       "      <th>WATER_LEVEL_LAG_3</th>\n",
       "      <th>WATER_LEVEL_LAG_4</th>\n",
       "      <th>WATER_LEVEL_LAG_5</th>\n",
       "      <th>WATER_LEVEL_LAG_6</th>\n",
       "      <th>WATER_LEVEL_LAG_7</th>\n",
       "      <th>LOG_WATER_LEVEL</th>\n",
       "    </tr>\n",
       "  </thead>\n",
       "  <tbody>\n",
       "    <tr>\n",
       "      <th>0</th>\n",
       "      <td>54.966096</td>\n",
       "      <td>158.185998</td>\n",
       "      <td>25.503455</td>\n",
       "      <td>10126.490282</td>\n",
       "      <td>0.343520</td>\n",
       "      <td>101.963267</td>\n",
       "      <td>51.218443</td>\n",
       "      <td>160.392824</td>\n",
       "      <td>413.694378</td>\n",
       "      <td>93.24608</td>\n",
       "      <td>0.261758</td>\n",
       "      <td>5.813526</td>\n",
       "      <td>5.812020</td>\n",
       "      <td>5.815046</td>\n",
       "      <td>5.817408</td>\n",
       "      <td>5.820889</td>\n",
       "      <td>5.827840</td>\n",
       "      <td>5.837170</td>\n",
       "      <td>5.823046</td>\n",
       "    </tr>\n",
       "    <tr>\n",
       "      <th>1</th>\n",
       "      <td>61.616171</td>\n",
       "      <td>126.354992</td>\n",
       "      <td>27.376329</td>\n",
       "      <td>10084.646488</td>\n",
       "      <td>0.358823</td>\n",
       "      <td>84.066813</td>\n",
       "      <td>50.943048</td>\n",
       "      <td>157.222570</td>\n",
       "      <td>413.712533</td>\n",
       "      <td>98.02259</td>\n",
       "      <td>0.261758</td>\n",
       "      <td>5.836918</td>\n",
       "      <td>5.834440</td>\n",
       "      <td>5.835472</td>\n",
       "      <td>5.839615</td>\n",
       "      <td>5.843447</td>\n",
       "      <td>5.848409</td>\n",
       "      <td>5.856328</td>\n",
       "      <td>5.823046</td>\n",
       "    </tr>\n",
       "    <tr>\n",
       "      <th>2</th>\n",
       "      <td>62.614585</td>\n",
       "      <td>125.849908</td>\n",
       "      <td>42.411914</td>\n",
       "      <td>10081.639138</td>\n",
       "      <td>-0.564266</td>\n",
       "      <td>78.011627</td>\n",
       "      <td>50.787032</td>\n",
       "      <td>166.943577</td>\n",
       "      <td>413.712858</td>\n",
       "      <td>99.91610</td>\n",
       "      <td>0.261758</td>\n",
       "      <td>5.837851</td>\n",
       "      <td>5.836957</td>\n",
       "      <td>5.834469</td>\n",
       "      <td>5.835498</td>\n",
       "      <td>5.839636</td>\n",
       "      <td>5.843466</td>\n",
       "      <td>5.848431</td>\n",
       "      <td>5.823046</td>\n",
       "    </tr>\n",
       "    <tr>\n",
       "      <th>3</th>\n",
       "      <td>69.275557</td>\n",
       "      <td>142.172221</td>\n",
       "      <td>92.154747</td>\n",
       "      <td>9992.490891</td>\n",
       "      <td>-1.038637</td>\n",
       "      <td>43.056889</td>\n",
       "      <td>56.794486</td>\n",
       "      <td>128.933991</td>\n",
       "      <td>413.710742</td>\n",
       "      <td>98.74032</td>\n",
       "      <td>0.261758</td>\n",
       "      <td>5.841307</td>\n",
       "      <td>5.837891</td>\n",
       "      <td>5.836987</td>\n",
       "      <td>5.834496</td>\n",
       "      <td>5.835521</td>\n",
       "      <td>5.839657</td>\n",
       "      <td>5.843489</td>\n",
       "      <td>5.834811</td>\n",
       "    </tr>\n",
       "    <tr>\n",
       "      <th>4</th>\n",
       "      <td>77.101825</td>\n",
       "      <td>138.843850</td>\n",
       "      <td>136.285037</td>\n",
       "      <td>9982.019579</td>\n",
       "      <td>-0.730957</td>\n",
       "      <td>57.625725</td>\n",
       "      <td>57.127055</td>\n",
       "      <td>137.166870</td>\n",
       "      <td>413.692350</td>\n",
       "      <td>94.64586</td>\n",
       "      <td>0.261758</td>\n",
       "      <td>5.855919</td>\n",
       "      <td>5.841348</td>\n",
       "      <td>5.837921</td>\n",
       "      <td>5.837015</td>\n",
       "      <td>5.834520</td>\n",
       "      <td>5.835542</td>\n",
       "      <td>5.839681</td>\n",
       "      <td>5.872118</td>\n",
       "    </tr>\n",
       "    <tr>\n",
       "      <th>...</th>\n",
       "      <td>...</td>\n",
       "      <td>...</td>\n",
       "      <td>...</td>\n",
       "      <td>...</td>\n",
       "      <td>...</td>\n",
       "      <td>...</td>\n",
       "      <td>...</td>\n",
       "      <td>...</td>\n",
       "      <td>...</td>\n",
       "      <td>...</td>\n",
       "      <td>...</td>\n",
       "      <td>...</td>\n",
       "      <td>...</td>\n",
       "      <td>...</td>\n",
       "      <td>...</td>\n",
       "      <td>...</td>\n",
       "      <td>...</td>\n",
       "      <td>...</td>\n",
       "      <td>...</td>\n",
       "    </tr>\n",
       "    <tr>\n",
       "      <th>2186</th>\n",
       "      <td>64.928534</td>\n",
       "      <td>137.364182</td>\n",
       "      <td>23.872765</td>\n",
       "      <td>10143.785417</td>\n",
       "      <td>0.349938</td>\n",
       "      <td>65.095615</td>\n",
       "      <td>33.306648</td>\n",
       "      <td>157.538313</td>\n",
       "      <td>413.861487</td>\n",
       "      <td>98.74708</td>\n",
       "      <td>0.238660</td>\n",
       "      <td>6.009243</td>\n",
       "      <td>6.014415</td>\n",
       "      <td>6.021161</td>\n",
       "      <td>6.030798</td>\n",
       "      <td>6.037647</td>\n",
       "      <td>6.040384</td>\n",
       "      <td>6.047471</td>\n",
       "      <td>5.971262</td>\n",
       "    </tr>\n",
       "    <tr>\n",
       "      <th>2187</th>\n",
       "      <td>81.254217</td>\n",
       "      <td>105.711410</td>\n",
       "      <td>24.895067</td>\n",
       "      <td>10164.120636</td>\n",
       "      <td>0.273026</td>\n",
       "      <td>60.561055</td>\n",
       "      <td>18.303614</td>\n",
       "      <td>140.594062</td>\n",
       "      <td>413.867572</td>\n",
       "      <td>99.82594</td>\n",
       "      <td>0.238660</td>\n",
       "      <td>6.000990</td>\n",
       "      <td>6.009003</td>\n",
       "      <td>6.014165</td>\n",
       "      <td>6.020908</td>\n",
       "      <td>6.030540</td>\n",
       "      <td>6.037388</td>\n",
       "      <td>6.040127</td>\n",
       "      <td>5.961005</td>\n",
       "    </tr>\n",
       "    <tr>\n",
       "      <th>2188</th>\n",
       "      <td>82.247481</td>\n",
       "      <td>106.706128</td>\n",
       "      <td>25.987409</td>\n",
       "      <td>10196.136443</td>\n",
       "      <td>0.349961</td>\n",
       "      <td>50.822222</td>\n",
       "      <td>14.800124</td>\n",
       "      <td>129.594103</td>\n",
       "      <td>413.873530</td>\n",
       "      <td>98.83705</td>\n",
       "      <td>0.238660</td>\n",
       "      <td>5.995531</td>\n",
       "      <td>6.000750</td>\n",
       "      <td>6.008754</td>\n",
       "      <td>6.013913</td>\n",
       "      <td>6.020652</td>\n",
       "      <td>6.030282</td>\n",
       "      <td>6.037133</td>\n",
       "      <td>5.953243</td>\n",
       "    </tr>\n",
       "    <tr>\n",
       "      <th>2189</th>\n",
       "      <td>74.080014</td>\n",
       "      <td>138.195823</td>\n",
       "      <td>-12.562771</td>\n",
       "      <td>10160.882445</td>\n",
       "      <td>0.196125</td>\n",
       "      <td>57.075614</td>\n",
       "      <td>15.133164</td>\n",
       "      <td>136.707386</td>\n",
       "      <td>413.855641</td>\n",
       "      <td>95.93684</td>\n",
       "      <td>0.238660</td>\n",
       "      <td>5.992867</td>\n",
       "      <td>5.995293</td>\n",
       "      <td>6.000503</td>\n",
       "      <td>6.008503</td>\n",
       "      <td>6.013658</td>\n",
       "      <td>6.020395</td>\n",
       "      <td>6.030028</td>\n",
       "      <td>5.940171</td>\n",
       "    </tr>\n",
       "    <tr>\n",
       "      <th>2190</th>\n",
       "      <td>67.966096</td>\n",
       "      <td>123.185998</td>\n",
       "      <td>1.615591</td>\n",
       "      <td>10119.170105</td>\n",
       "      <td>0.269302</td>\n",
       "      <td>96.223120</td>\n",
       "      <td>21.218443</td>\n",
       "      <td>164.392824</td>\n",
       "      <td>413.802550</td>\n",
       "      <td>91.33917</td>\n",
       "      <td>0.238660</td>\n",
       "      <td>5.958944</td>\n",
       "      <td>5.971392</td>\n",
       "      <td>5.973787</td>\n",
       "      <td>5.979035</td>\n",
       "      <td>5.986628</td>\n",
       "      <td>5.990979</td>\n",
       "      <td>5.996544</td>\n",
       "      <td>5.929589</td>\n",
       "    </tr>\n",
       "  </tbody>\n",
       "</table>\n",
       "<p>2191 rows × 19 columns</p>\n",
       "</div>"
      ],
      "text/plain": [
       "       HUMIDITY   MEAN_TEMP  PRECIPITATION      PRESSURE  SNOW_DEPTH  \\\n",
       "0     54.966096  158.185998      25.503455  10126.490282    0.343520   \n",
       "1     61.616171  126.354992      27.376329  10084.646488    0.358823   \n",
       "2     62.614585  125.849908      42.411914  10081.639138   -0.564266   \n",
       "3     69.275557  142.172221      92.154747   9992.490891   -1.038637   \n",
       "4     77.101825  138.843850     136.285037   9982.019579   -0.730957   \n",
       "...         ...         ...            ...           ...         ...   \n",
       "2186  64.928534  137.364182      23.872765  10143.785417    0.349938   \n",
       "2187  81.254217  105.711410      24.895067  10164.120636    0.273026   \n",
       "2188  82.247481  106.706128      25.987409  10196.136443    0.349961   \n",
       "2189  74.080014  138.195823     -12.562771  10160.882445    0.196125   \n",
       "2190  67.966096  123.185998       1.615591  10119.170105    0.269302   \n",
       "\n",
       "        SUNSHINE  WIND_SPEED  GLOBAL_RADIATION  GROUNDWATER_LEVEL  \\\n",
       "0     101.963267   51.218443        160.392824         413.694378   \n",
       "1      84.066813   50.943048        157.222570         413.712533   \n",
       "2      78.011627   50.787032        166.943577         413.712858   \n",
       "3      43.056889   56.794486        128.933991         413.710742   \n",
       "4      57.625725   57.127055        137.166870         413.692350   \n",
       "...          ...         ...               ...                ...   \n",
       "2186   65.095615   33.306648        157.538313         413.861487   \n",
       "2187   60.561055   18.303614        140.594062         413.867572   \n",
       "2188   50.822222   14.800124        129.594103         413.873530   \n",
       "2189   57.075614   15.133164        136.707386         413.855641   \n",
       "2190   96.223120   21.218443        164.392824         413.802550   \n",
       "\n",
       "      MOON_ILLUMINATION  CLIMATE_CHANGE  WATER_LEVEL_LAG_1  WATER_LEVEL_LAG_2  \\\n",
       "0              93.24608        0.261758           5.813526           5.812020   \n",
       "1              98.02259        0.261758           5.836918           5.834440   \n",
       "2              99.91610        0.261758           5.837851           5.836957   \n",
       "3              98.74032        0.261758           5.841307           5.837891   \n",
       "4              94.64586        0.261758           5.855919           5.841348   \n",
       "...                 ...             ...                ...                ...   \n",
       "2186           98.74708        0.238660           6.009243           6.014415   \n",
       "2187           99.82594        0.238660           6.000990           6.009003   \n",
       "2188           98.83705        0.238660           5.995531           6.000750   \n",
       "2189           95.93684        0.238660           5.992867           5.995293   \n",
       "2190           91.33917        0.238660           5.958944           5.971392   \n",
       "\n",
       "      WATER_LEVEL_LAG_3  WATER_LEVEL_LAG_4  WATER_LEVEL_LAG_5  \\\n",
       "0              5.815046           5.817408           5.820889   \n",
       "1              5.835472           5.839615           5.843447   \n",
       "2              5.834469           5.835498           5.839636   \n",
       "3              5.836987           5.834496           5.835521   \n",
       "4              5.837921           5.837015           5.834520   \n",
       "...                 ...                ...                ...   \n",
       "2186           6.021161           6.030798           6.037647   \n",
       "2187           6.014165           6.020908           6.030540   \n",
       "2188           6.008754           6.013913           6.020652   \n",
       "2189           6.000503           6.008503           6.013658   \n",
       "2190           5.973787           5.979035           5.986628   \n",
       "\n",
       "      WATER_LEVEL_LAG_6  WATER_LEVEL_LAG_7  LOG_WATER_LEVEL  \n",
       "0              5.827840           5.837170         5.823046  \n",
       "1              5.848409           5.856328         5.823046  \n",
       "2              5.843466           5.848431         5.823046  \n",
       "3              5.839657           5.843489         5.834811  \n",
       "4              5.835542           5.839681         5.872118  \n",
       "...                 ...                ...              ...  \n",
       "2186           6.040384           6.047471         5.971262  \n",
       "2187           6.037388           6.040127         5.961005  \n",
       "2188           6.030282           6.037133         5.953243  \n",
       "2189           6.020395           6.030028         5.940171  \n",
       "2190           5.990979           5.996544         5.929589  \n",
       "\n",
       "[2191 rows x 19 columns]"
      ]
     },
     "execution_count": 8,
     "metadata": {},
     "output_type": "execute_result"
    }
   ],
   "source": [
    "X_test"
   ]
  },
  {
   "cell_type": "code",
   "execution_count": 9,
   "metadata": {
    "executionInfo": {
     "elapsed": 3,
     "status": "ok",
     "timestamp": 1733221694762,
     "user": {
      "displayName": "Ines Gouten",
      "userId": "14459617606990911186"
     },
     "user_tz": -60
    },
    "id": "s4Xe4dl-y4_4"
   },
   "outputs": [],
   "source": [
    "#standardize X and Y seperately:\n",
    "from sklearn.preprocessing import StandardScaler\n",
    "\n",
    "scaler = StandardScaler()\n",
    "\n",
    "X_train = scaler.fit_transform(X_train)\n",
    "\n",
    "X_test = scaler.transform(X_test)"
   ]
  },
  {
   "cell_type": "code",
   "execution_count": 10,
   "metadata": {
    "executionInfo": {
     "elapsed": 2,
     "status": "ok",
     "timestamp": 1733221694762,
     "user": {
      "displayName": "Ines Gouten",
      "userId": "14459617606990911186"
     },
     "user_tz": -60
    },
    "id": "N3dYZ8iSzAHa"
   },
   "outputs": [],
   "source": [
    "target_scaler = StandardScaler()\n",
    "y_train= target_scaler.fit_transform(y_train.values.reshape(-1, 1)).flatten()\n",
    "y_test = target_scaler.transform(y_test.values.reshape(-1, 1)).flatten()"
   ]
  },
  {
   "cell_type": "code",
   "execution_count": 11,
   "metadata": {
    "colab": {
     "base_uri": "https://localhost:8080/"
    },
    "executionInfo": {
     "elapsed": 218,
     "status": "ok",
     "timestamp": 1733221695295,
     "user": {
      "displayName": "Ines Gouten",
      "userId": "14459617606990911186"
     },
     "user_tz": -60
    },
    "id": "KYPc3h2azDjZ",
    "outputId": "a77f234b-0d29-47fd-b6a8-a00f168d78c5"
   },
   "outputs": [
    {
     "data": {
      "text/plain": [
       "array([[-2.30409396,  1.70390881,  0.03909801, ...,  0.25773383,\n",
       "         0.35689441,  0.14357705],\n",
       "       [-1.63889165,  0.79165504,  0.07493975, ...,  0.47609346,\n",
       "         0.56029207,  0.14357705],\n",
       "       [-1.53902094,  0.77717969,  0.3626801 , ...,  0.4236248 ,\n",
       "         0.47645254,  0.14357705],\n",
       "       ...,\n",
       "       [ 0.42484397,  0.2285327 ,  0.04835959, ...,  2.40688922,\n",
       "         2.47986847,  0.97236892],\n",
       "       [-0.3921421 ,  1.13100474, -0.68938639, ...,  2.30192676,\n",
       "         2.40443866,  0.88915657],\n",
       "       [-1.003713  ,  0.70083394, -0.41805095, ...,  1.98964483,\n",
       "         2.04893714,  0.82179452]], shape=(2191, 19))"
      ]
     },
     "execution_count": 11,
     "metadata": {},
     "output_type": "execute_result"
    }
   ],
   "source": [
    "X_test\n",
    "#looks standardized"
   ]
  },
  {
   "cell_type": "markdown",
   "metadata": {},
   "source": [
    "# Ridge and Lasso Hyperparameter-Tuning"
   ]
  },
  {
   "cell_type": "code",
   "execution_count": 12,
   "metadata": {
    "executionInfo": {
     "elapsed": 2,
     "status": "ok",
     "timestamp": 1733221695916,
     "user": {
      "displayName": "Ines Gouten",
      "userId": "14459617606990911186"
     },
     "user_tz": -60
    },
    "id": "o4EtAmVECu2K"
   },
   "outputs": [],
   "source": [
    "ridge_params = {'alpha': np.logspace(-4, 4, 10)}\n",
    "lasso_params = {'alpha': np.logspace(-4, 4, 10)}\n",
    "# Hyperparameter grids\n",
    "\n",
    "ridge = Ridge()\n",
    "lasso = Lasso(max_iter=10000)\n",
    "# Initialized models"
   ]
  },
  {
   "cell_type": "code",
   "execution_count": 13,
   "metadata": {
    "colab": {
     "base_uri": "https://localhost:8080/"
    },
    "executionInfo": {
     "elapsed": 1126,
     "status": "ok",
     "timestamp": 1733221697041,
     "user": {
      "displayName": "Ines Gouten",
      "userId": "14459617606990911186"
     },
     "user_tz": -60
    },
    "id": "EFTrzCZ5C8J0",
    "outputId": "5e0f1d5d-41bf-40f3-f843-a47e501732de"
   },
   "outputs": [
    {
     "name": "stdout",
     "output_type": "stream",
     "text": [
      "Best Ridge Alpha: 0.005994842503189409\n"
     ]
    }
   ],
   "source": [
    "# Ridge\n",
    "ridge_grid = GridSearchCV(ridge, ridge_params, cv=tscv, scoring='neg_mean_squared_error')\n",
    "ridge_grid.fit(X_train, y_train)\n",
    "\n",
    "# Get the best model and alpha\n",
    "best_ridge = ridge_grid.best_estimator_\n",
    "best_ridge_alpha = ridge_grid.best_params_['alpha']\n",
    "print(f\"Best Ridge Alpha: {best_ridge_alpha}\")"
   ]
  },
  {
   "cell_type": "code",
   "execution_count": 35,
   "metadata": {},
   "outputs": [
    {
     "data": {
      "text/plain": [
       "['../results/trained_models/lasso_regression.pkl']"
      ]
     },
     "execution_count": 35,
     "metadata": {},
     "output_type": "execute_result"
    }
   ],
   "source": [
    "import joblib \n",
    "#save models\n",
    "joblib.dump(best_ridge, \"../results/trained_models/ridge_regression.pkl\")\n",
    "joblib.dump(best_lasso, \"../results/trained_models/lasso_regression.pkl\")"
   ]
  },
  {
   "cell_type": "code",
   "execution_count": 14,
   "metadata": {
    "colab": {
     "base_uri": "https://localhost:8080/"
    },
    "executionInfo": {
     "elapsed": 3018,
     "status": "ok",
     "timestamp": 1733221700057,
     "user": {
      "displayName": "Ines Gouten",
      "userId": "14459617606990911186"
     },
     "user_tz": -60
    },
    "id": "hwtl6iJEDJVr",
    "outputId": "d893127b-95a6-4f5b-ef88-1f59fd2ea810"
   },
   "outputs": [
    {
     "name": "stdout",
     "output_type": "stream",
     "text": [
      "Best Lasso Alpha: 0.0001\n"
     ]
    }
   ],
   "source": [
    "# Lasso\n",
    "lasso_grid = GridSearchCV(lasso, lasso_params, cv=tscv, scoring='neg_mean_squared_error')\n",
    "lasso_grid.fit(X_train, y_train)\n",
    "\n",
    "# Get the best model and alpha\n",
    "best_lasso = lasso_grid.best_estimator_\n",
    "best_lasso_alpha = lasso_grid.best_params_['alpha']\n",
    "print(f\"Best Lasso Alpha: {best_lasso_alpha}\")"
   ]
  },
  {
   "cell_type": "code",
   "execution_count": 15,
   "metadata": {
    "executionInfo": {
     "elapsed": 12,
     "status": "ok",
     "timestamp": 1733221700057,
     "user": {
      "displayName": "Ines Gouten",
      "userId": "14459617606990911186"
     },
     "user_tz": -60
    },
    "id": "ptynQxGNDOhM"
   },
   "outputs": [],
   "source": [
    "y_pred_ridge = best_ridge.predict(X_test)"
   ]
  },
  {
   "cell_type": "code",
   "execution_count": 16,
   "metadata": {
    "executionInfo": {
     "elapsed": 11,
     "status": "ok",
     "timestamp": 1733221700057,
     "user": {
      "displayName": "Ines Gouten",
      "userId": "14459617606990911186"
     },
     "user_tz": -60
    },
    "id": "ejtj2iS0DjbA"
   },
   "outputs": [],
   "source": [
    "y_pred_lasso = best_lasso.predict(X_test)"
   ]
  },
  {
   "cell_type": "markdown",
   "metadata": {},
   "source": [
    "# Reversion of Transformations"
   ]
  },
  {
   "cell_type": "code",
   "execution_count": 17,
   "metadata": {
    "colab": {
     "base_uri": "https://localhost:8080/"
    },
    "executionInfo": {
     "elapsed": 11,
     "status": "ok",
     "timestamp": 1733221700057,
     "user": {
      "displayName": "Ines Gouten",
      "userId": "14459617606990911186"
     },
     "user_tz": -60
    },
    "id": "2X4ntMMJzORE",
    "outputId": "21a88f4a-f4ce-4903-8ec1-5e46dad42179"
   },
   "outputs": [
    {
     "data": {
      "text/plain": [
       "array([5.81376369, 5.83710151, 5.83758377, ..., 5.98889133, 5.98600713,\n",
       "       5.94649519], shape=(2191,))"
      ]
     },
     "execution_count": 17,
     "metadata": {},
     "output_type": "execute_result"
    }
   ],
   "source": [
    "y_pred_ridge_original = target_scaler.inverse_transform(y_pred_ridge.reshape(-1, 1)).flatten()\n",
    "y_pred_ridge_original\n",
    "#resstandardization was successful"
   ]
  },
  {
   "cell_type": "code",
   "execution_count": 18,
   "metadata": {
    "colab": {
     "base_uri": "https://localhost:8080/"
    },
    "executionInfo": {
     "elapsed": 10,
     "status": "ok",
     "timestamp": 1733221700057,
     "user": {
      "displayName": "Ines Gouten",
      "userId": "14459617606990911186"
     },
     "user_tz": -60
    },
    "id": "tmDasoZwzPpq",
    "outputId": "a8bc43c9-6634-4c22-b466-4cccaecaf5bd"
   },
   "outputs": [
    {
     "data": {
      "text/plain": [
       "array([5.82185474, 5.82526799, 5.82228384, ..., 5.95153302, 5.94787238,\n",
       "       5.92869226], shape=(2191,))"
      ]
     },
     "execution_count": 18,
     "metadata": {},
     "output_type": "execute_result"
    }
   ],
   "source": [
    "y_pred_ridge_with_seasonality = y_pred_ridge_original + test_seasonality['seasonal_value'].values\n",
    "y_pred_ridge_with_seasonality\n",
    "#added-> yes"
   ]
  },
  {
   "cell_type": "code",
   "execution_count": 19,
   "metadata": {
    "colab": {
     "base_uri": "https://localhost:8080/"
    },
    "executionInfo": {
     "elapsed": 8,
     "status": "ok",
     "timestamp": 1733221700057,
     "user": {
      "displayName": "Ines Gouten",
      "userId": "14459617606990911186"
     },
     "user_tz": -60
    },
    "id": "rfXES9cxzXFz",
    "outputId": "dfd7f194-6300-448d-ed49-0f957fbc21de"
   },
   "outputs": [
    {
     "data": {
      "text/plain": [
       "array([337.59762943, 338.75190259, 337.74252446, ..., 384.34209063,\n",
       "       382.93772676, 375.66292411], shape=(2191,))"
      ]
     },
     "execution_count": 19,
     "metadata": {},
     "output_type": "execute_result"
    }
   ],
   "source": [
    "y_pred_ridge_final = np.exp(y_pred_ridge_with_seasonality)\n",
    "y_pred_ridge_final"
   ]
  },
  {
   "cell_type": "code",
   "execution_count": 20,
   "metadata": {
    "executionInfo": {
     "elapsed": 7,
     "status": "ok",
     "timestamp": 1733221700057,
     "user": {
      "displayName": "Ines Gouten",
      "userId": "14459617606990911186"
     },
     "user_tz": -60
    },
    "id": "IofOMNS4zaXR"
   },
   "outputs": [],
   "source": [
    "#reversion of transformation works-> redo them on original test set and on lasso as well:\n",
    "\n",
    "\n",
    "# Lasso predictions\n",
    "y_pred_lasso_original = target_scaler.inverse_transform(y_pred_lasso.reshape(-1, 1)).flatten()\n",
    "y_pred_lasso_with_seasonality = y_pred_lasso_original + test_seasonality['seasonal_value'].values\n",
    "y_pred_lasso_final = np.exp(y_pred_lasso_with_seasonality)\n",
    "\n",
    "\n",
    "# ACTUAL DATA\n",
    "y_test_original = target_scaler.inverse_transform(y_test.reshape(-1, 1)).flatten()\n",
    "y_test_with_seasonality = y_test_original + test_seasonality['seasonal_value'].values\n",
    "y_test_final = np.exp(y_test_with_seasonality)"
   ]
  },
  {
   "cell_type": "code",
   "execution_count": 21,
   "metadata": {
    "colab": {
     "base_uri": "https://localhost:8080/"
    },
    "executionInfo": {
     "elapsed": 7,
     "status": "ok",
     "timestamp": 1733221700057,
     "user": {
      "displayName": "Ines Gouten",
      "userId": "14459617606990911186"
     },
     "user_tz": -60
    },
    "id": "a7N5B6Wvzolu",
    "outputId": "86b5dcf1-6912-4fd5-dc98-7c590c3af454"
   },
   "outputs": [
    {
     "data": {
      "text/plain": [
       "array([337.48948082, 338.70955167, 337.84575712, ..., 384.27640028,\n",
       "       382.90954424, 376.05744379], shape=(2191,))"
      ]
     },
     "execution_count": 21,
     "metadata": {},
     "output_type": "execute_result"
    }
   ],
   "source": [
    "y_pred_lasso_final"
   ]
  },
  {
   "cell_type": "code",
   "execution_count": 22,
   "metadata": {
    "colab": {
     "base_uri": "https://localhost:8080/"
    },
    "executionInfo": {
     "elapsed": 6,
     "status": "ok",
     "timestamp": 1733221700057,
     "user": {
      "displayName": "Ines Gouten",
      "userId": "14459617606990911186"
     },
     "user_tz": -60
    },
    "id": "hKSxoJYlzrEd",
    "outputId": "005185cb-453c-49ed-f93d-ace42e2ad845"
   },
   "outputs": [
    {
     "data": {
      "text/plain": [
       "array([338., 338., 338., ..., 385., 380., 376.], shape=(2191,))"
      ]
     },
     "execution_count": 22,
     "metadata": {},
     "output_type": "execute_result"
    }
   ],
   "source": [
    "y_test_final"
   ]
  },
  {
   "cell_type": "markdown",
   "metadata": {},
   "source": [
    "# Evaluate and Plot Results"
   ]
  },
  {
   "cell_type": "code",
   "execution_count": 23,
   "metadata": {
    "colab": {
     "base_uri": "https://localhost:8080/"
    },
    "executionInfo": {
     "elapsed": 5,
     "status": "ok",
     "timestamp": 1733221700057,
     "user": {
      "displayName": "Ines Gouten",
      "userId": "14459617606990911186"
     },
     "user_tz": -60
    },
    "id": "dcHfA3PTDuNI",
    "outputId": "c1c9f0b9-ab04-4d4e-b85b-702c84273f59"
   },
   "outputs": [
    {
     "name": "stdout",
     "output_type": "stream",
     "text": [
      "Test MSE for Ridge: 1.9609876875137482\n",
      "Test MSE for Lasso: 2.041435083963629\n"
     ]
    }
   ],
   "source": [
    "# Calculate MSE\n",
    "mse_ridge = mean_squared_error(y_test_final, y_pred_ridge_final)\n",
    "mse_lasso = mean_squared_error(y_test_final, y_pred_lasso_final)\n",
    "\n",
    "print(f\"Test MSE for Ridge: {mse_ridge}\")\n",
    "print(f\"Test MSE for Lasso: {mse_lasso}\")"
   ]
  },
  {
   "cell_type": "code",
   "execution_count": 24,
   "metadata": {
    "colab": {
     "base_uri": "https://localhost:8080/"
    },
    "executionInfo": {
     "elapsed": 5,
     "status": "ok",
     "timestamp": 1733221700057,
     "user": {
      "displayName": "Ines Gouten",
      "userId": "14459617606990911186"
     },
     "user_tz": -60
    },
    "id": "SivHbjNUzzdX",
    "outputId": "1063b033-e1f3-4bee-a1f8-25ed27a5e7ec"
   },
   "outputs": [
    {
     "name": "stdout",
     "output_type": "stream",
     "text": [
      "Test RMSE for Ridge: 1.4004\n",
      "Test RMSE for Lasso: 1.4288\n"
     ]
    }
   ],
   "source": [
    "# Compute RMSE\n",
    "rmse_ridge = np.sqrt(mse_ridge)\n",
    "rmse_lasso = np.sqrt(mse_lasso)\n",
    "\n",
    "print(f\"Test RMSE for Ridge: {rmse_ridge:.4f}\")\n",
    "print(f\"Test RMSE for Lasso: {rmse_lasso:.4f}\")"
   ]
  },
  {
   "cell_type": "code",
   "execution_count": 25,
   "metadata": {
    "colab": {
     "base_uri": "https://localhost:8080/",
     "height": 526
    },
    "executionInfo": {
     "elapsed": 1552,
     "status": "ok",
     "timestamp": 1733221701605,
     "user": {
      "displayName": "Ines Gouten",
      "userId": "14459617606990911186"
     },
     "user_tz": -60
    },
    "id": "K0obCwAND0Ox",
    "outputId": "3d7609cf-1e91-4eb3-ccba-d054610a62d2"
   },
   "outputs": [
    {
     "data": {
      "image/png": "[encoded data removed]",
      "text/plain": [
       "<Figure size 1200x600 with 1 Axes>"
      ]
     },
     "metadata": {},
     "output_type": "display_data"
    }
   ],
   "source": [
    "import matplotlib.pyplot as plt\n",
    "\n",
    "# Convert 'DATE' to datetime\n",
    "test['DATE'] = pd.to_datetime(test['DATE'])\n",
    "\n",
    "# Plot the data\n",
    "plt.figure(figsize=(12, 6))\n",
    "plt.plot(test['DATE'], y_test_final, label='Actual', color='blue')\n",
    "plt.plot(test['DATE'], y_pred_ridge_final, label='Ridge Predictions', color='red')\n",
    "plt.plot(test['DATE'], y_pred_lasso_final, label='Lasso Predictions', color='green')\n",
    "plt.xlabel('Date')\n",
    "plt.ylabel('Water Level')\n",
    "plt.title('Actual vs Predicted Water Levels')\n",
    "plt.legend()\n",
    "\n",
    "# Format x-axis dates\n",
    "plt.gcf().autofmt_xdate()\n",
    "plt.show()"
   ]
  },
  {
   "cell_type": "code",
   "execution_count": 26,
   "metadata": {
    "colab": {
     "base_uri": "https://localhost:8080/"
    },
    "executionInfo": {
     "elapsed": 7,
     "status": "ok",
     "timestamp": 1733221701605,
     "user": {
      "displayName": "Ines Gouten",
      "userId": "14459617606990911186"
     },
     "user_tz": -60
    },
    "id": "_n3hQQGowvBJ",
    "outputId": "68546d90-eedb-411d-ff95-3713faf4ac9d"
   },
   "outputs": [
    {
     "name": "stdout",
     "output_type": "stream",
     "text": [
      "datetime64[ns]\n",
      "275.0000000000001 482.9999999999998\n"
     ]
    }
   ],
   "source": [
    "print(test['DATE'].dtype)\n",
    "print(y_test_final.min(), y_test_final.max())"
   ]
  },
  {
   "cell_type": "code",
   "execution_count": 27,
   "metadata": {
    "colab": {
     "base_uri": "https://localhost:8080/"
    },
    "executionInfo": {
     "elapsed": 4,
     "status": "ok",
     "timestamp": 1733221701605,
     "user": {
      "displayName": "Ines Gouten",
      "userId": "14459617606990911186"
     },
     "user_tz": -60
    },
    "id": "J8IkTNQl3nM0",
    "outputId": "c4d14893-a1c9-4264-a1e4-5ca937dcb446"
   },
   "outputs": [
    {
     "name": "stdout",
     "output_type": "stream",
     "text": [
      "-0.140490181118112 0.2249313776978577\n"
     ]
    }
   ],
   "source": [
    "print(test_seasonality['seasonal_value'].min(), test_seasonality['seasonal_value'].max())"
   ]
  },
  {
   "cell_type": "code",
   "execution_count": 28,
   "metadata": {
    "executionInfo": {
     "elapsed": 3,
     "status": "ok",
     "timestamp": 1733221701983,
     "user": {
      "displayName": "Ines Gouten",
      "userId": "14459617606990911186"
     },
     "user_tz": -60
    },
    "id": "7Fu_E12ZD7tl"
   },
   "outputs": [],
   "source": [
    "# Definition and comparison of metrics\n",
    "from sklearn.metrics import mean_absolute_error\n",
    "\n",
    "# Mean Squared Error (MSE)\n",
    "mse_ridge = mean_squared_error(y_test_final, y_pred_ridge_final)\n",
    "mse_lasso = mean_squared_error(y_test_final, y_pred_lasso_final)\n",
    "\n",
    "# Root Mean Squared Error (RMSE)\n",
    "rmse_ridge = np.sqrt(mse_ridge)\n",
    "rmse_lasso = np.sqrt(mse_lasso)\n",
    "\n",
    "# Mean Absolute Error (MAE)\n",
    "mae_ridge = mean_absolute_error(y_test_final, y_pred_ridge_final)\n",
    "mae_lasso = mean_absolute_error(y_test_final, y_pred_lasso_final)\n"
   ]
  },
  {
   "cell_type": "code",
   "execution_count": 29,
   "metadata": {
    "colab": {
     "base_uri": "https://localhost:8080/"
    },
    "executionInfo": {
     "elapsed": 3,
     "status": "ok",
     "timestamp": 1733221701983,
     "user": {
      "displayName": "Ines Gouten",
      "userId": "14459617606990911186"
     },
     "user_tz": -60
    },
    "id": "mp0hSOE5ESGq",
    "outputId": "0b699341-fd6f-45fd-9ebc-c433843c709a"
   },
   "outputs": [
    {
     "name": "stdout",
     "output_type": "stream",
     "text": [
      "Model Performance on Test Data:\n",
      "---------------------------------\n",
      "Ridge Regression:\n",
      "  MSE: 1.9610\n",
      "  RMSE: 1.4004\n",
      "  MAE: 0.9867\n",
      "\n",
      "Lasso Regression:\n",
      "  MSE: 2.0414\n",
      "  RMSE: 1.4288\n",
      "  MAE: 0.9968\n"
     ]
    }
   ],
   "source": [
    "print(\"Model Performance on Test Data:\")\n",
    "print(\"---------------------------------\")\n",
    "print(f\"Ridge Regression:\")\n",
    "print(f\"  MSE: {mse_ridge:.4f}\")\n",
    "print(f\"  RMSE: {rmse_ridge:.4f}\")\n",
    "print(f\"  MAE: {mae_ridge:.4f}\\n\")\n",
    "\n",
    "print(f\"Lasso Regression:\")\n",
    "print(f\"  MSE: {mse_lasso:.4f}\")\n",
    "print(f\"  RMSE: {rmse_lasso:.4f}\")\n",
    "print(f\"  MAE: {mae_lasso:.4f}\")\n"
   ]
  },
  {
   "cell_type": "code",
   "execution_count": 30,
   "metadata": {
    "colab": {
     "base_uri": "https://localhost:8080/",
     "height": 564
    },
    "executionInfo": {
     "elapsed": 656,
     "status": "ok",
     "timestamp": 1733221702939,
     "user": {
      "displayName": "Ines Gouten",
      "userId": "14459617606990911186"
     },
     "user_tz": -60
    },
    "id": "n43GwgVsEU2A",
    "outputId": "9c5f57de-507e-4565-d5de-8234c7334abf"
   },
   "outputs": [
    {
     "data": {
      "image/png": "[encoded data removed]",
      "text/plain": [
       "<Figure size 1000x600 with 1 Axes>"
      ]
     },
     "metadata": {},
     "output_type": "display_data"
    }
   ],
   "source": [
    "# Calculate and plot residuals\n",
    "\n",
    "ridge_residuals = y_test_final - y_pred_ridge_final\n",
    "lasso_residuals = y_test_final - y_pred_lasso_final\n",
    "\n",
    "plt.figure(figsize=(10, 6))\n",
    "plt.hist(ridge_residuals, bins=50, alpha=0.5, label=\"Ridge Residuals\")\n",
    "plt.hist(lasso_residuals, bins=50, alpha=0.5, label=\"Lasso Residuals\")\n",
    "plt.axvline(0, color='black', linestyle='--', linewidth=1)\n",
    "plt.xlabel('Residuals')\n",
    "plt.ylabel('Frequency')\n",
    "plt.title('Residuals Distribution')\n",
    "plt.legend()\n",
    "plt.show()\n"
   ]
  },
  {
   "cell_type": "code",
   "execution_count": 31,
   "metadata": {
    "colab": {
     "base_uri": "https://localhost:8080/"
    },
    "executionInfo": {
     "elapsed": 2,
     "status": "ok",
     "timestamp": 1733221702939,
     "user": {
      "displayName": "Ines Gouten",
      "userId": "14459617606990911186"
     },
     "user_tz": -60
    },
    "id": "5Cxb-L6lEXV7",
    "outputId": "b3cc4752-c572-43ed-e2da-92a95b1e366c"
   },
   "outputs": [
    {
     "name": "stdout",
     "output_type": "stream",
     "text": [
      "  Metric     Ridge     Lasso\n",
      "0    MSE  1.960988  2.041435\n",
      "1   RMSE  1.400353  1.428788\n",
      "2    MAE  0.986697  0.996817\n"
     ]
    }
   ],
   "source": [
    "metrics_comparison = pd.DataFrame({\n",
    "    'Metric': ['MSE', 'RMSE', 'MAE'],\n",
    "    'Ridge': [mse_ridge, rmse_ridge, mae_ridge],\n",
    "    'Lasso': [mse_lasso, rmse_lasso, mae_lasso]\n",
    "})\n",
    "\n",
    "print(metrics_comparison)"
   ]
  },
  {
   "cell_type": "code",
   "execution_count": 32,
   "metadata": {
    "colab": {
     "base_uri": "https://localhost:8080/"
    },
    "executionInfo": {
     "elapsed": 2,
     "status": "ok",
     "timestamp": 1733221703167,
     "user": {
      "displayName": "Ines Gouten",
      "userId": "14459617606990911186"
     },
     "user_tz": -60
    },
    "id": "XRacR8MAEz2Q",
    "outputId": "6db15596-76f3-40b3-b561-1d20f0ad82c8"
   },
   "outputs": [
    {
     "name": "stdout",
     "output_type": "stream",
     "text": [
      "\n",
      "Top Features - Ridge Regression\n",
      "              Feature  Coefficient\n",
      "11  WATER_LEVEL_LAG_1     1.600067\n",
      "\n",
      "Top Features - Lasso Regression\n",
      "              Feature  Coefficient\n",
      "11  WATER_LEVEL_LAG_1     1.494046\n"
     ]
    }
   ],
   "source": [
    "# Find most predictive feature\n",
    "test = test.drop(columns=['DATE', 'WATER_LEVEL'])\n",
    "\n",
    "# Ridge coefficients\n",
    "ridge_coefficients = pd.DataFrame({\n",
    "    'Feature': test.columns,\n",
    "    'Coefficient': best_ridge.coef_\n",
    "}).sort_values(by='Coefficient', key=abs, ascending=False)\n",
    "\n",
    "# Lasso coefficients\n",
    "lasso_coefficients = pd.DataFrame({\n",
    "    'Feature': test.columns,\n",
    "    'Coefficient': best_lasso.coef_\n",
    "}).sort_values(by='Coefficient', key=abs, ascending=False)\n",
    "\n",
    "# Display top features\n",
    "\n",
    "print(\"\\nTop Features - Ridge Regression\")\n",
    "# Most predictive feature for Ridge\n",
    "print(ridge_coefficients.head(1))\n",
    "\n",
    "print(\"\\nTop Features - Lasso Regression\")\n",
    "# Most predictive feature for Lasso\n",
    "print(lasso_coefficients.head(1))"
   ]
  },
  {
   "cell_type": "code",
   "execution_count": 33,
   "metadata": {
    "colab": {
     "base_uri": "https://localhost:8080/",
     "height": 1000
    },
    "executionInfo": {
     "elapsed": 1017,
     "status": "ok",
     "timestamp": 1733221704709,
     "user": {
      "displayName": "Ines Gouten",
      "userId": "14459617606990911186"
     },
     "user_tz": -60
    },
    "id": "iQAC1kuLOQV6",
    "outputId": "d3059162-c4fa-4d4f-c52d-b5322b2a9481"
   },
   "outputs": [
    {
     "data": {
      "image/png": "[encoded data removed]",
      "text/plain": [
       "<Figure size 1000x600 with 1 Axes>"
      ]
     },
     "metadata": {},
     "output_type": "display_data"
    },
    {
     "data": {
      "image/png": "[encoded data removed]",
      "text/plain": [
       "<Figure size 1000x600 with 1 Axes>"
      ]
     },
     "metadata": {},
     "output_type": "display_data"
    }
   ],
   "source": [
    "# Plot Ridge feature importance\n",
    "plt.figure(figsize=(10, 6))\n",
    "plt.barh(ridge_coefficients['Feature'], ridge_coefficients['Coefficient'])\n",
    "plt.title('Ridge Regression - Feature Importance')\n",
    "plt.xlabel('Coefficient Value')\n",
    "plt.ylabel('Feature')\n",
    "plt.show()\n",
    "\n",
    "# Plot Lasso feature importance\n",
    "plt.figure(figsize=(10, 6))\n",
    "plt.barh(lasso_coefficients['Feature'], lasso_coefficients['Coefficient'])\n",
    "plt.title('Lasso Regression - Feature Importance')\n",
    "plt.xlabel('Coefficient Value')\n",
    "plt.ylabel('Feature')\n",
    "plt.show()\n"
   ]
  },
  {
   "cell_type": "code",
   "execution_count": 40,
   "metadata": {
    "executionInfo": {
     "elapsed": 2,
     "status": "ok",
     "timestamp": 1733221704709,
     "user": {
      "displayName": "Ines Gouten",
      "userId": "14459617606990911186"
     },
     "user_tz": -60
    },
    "id": "BqTariutm3Zb"
   },
   "outputs": [],
   "source": [
    "#observation: see that most important feature is the water lag 1 -> really depend on the water level of the previous day (more than on external factors)...."
   ]
  }
 ],
 "metadata": {
  "colab": {
   "provenance": []
  },
  "kernelspec": {
   "display_name": "Python 3",
   "name": "python3"
  },
  "language_info": {
   "codemirror_mode": {
    "name": "ipython",
    "version": 3
   },
   "file_extension": ".py",
   "mimetype": "text/x-python",
   "name": "python",
   "nbconvert_exporter": "python",
   "pygments_lexer": "ipython3",
   "version": "3.12.1"
  }
 },
 "nbformat": 4,
 "nbformat_minor": 0
}
